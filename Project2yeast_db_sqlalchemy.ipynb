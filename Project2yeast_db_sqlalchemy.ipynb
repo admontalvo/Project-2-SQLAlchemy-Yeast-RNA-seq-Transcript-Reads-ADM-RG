{
 "cells": [
  {
   "cell_type": "code",
   "execution_count": null,
   "id": "973bfec4-6dc4-4ce9-a32e-7dc861907f88",
   "metadata": {},
   "outputs": [],
   "source": [
    "### Project 2 SQLAlchemy Database Yeast_Gene expression "
   ]
  },
  {
   "cell_type": "code",
   "execution_count": 6,
   "id": "dc020cee-f93c-4271-8a8f-ad6f9ef43e02",
   "metadata": {},
   "outputs": [
    {
     "data": {
      "text/html": [
       "<div>\n",
       "<style scoped>\n",
       "    .dataframe tbody tr th:only-of-type {\n",
       "        vertical-align: middle;\n",
       "    }\n",
       "\n",
       "    .dataframe tbody tr th {\n",
       "        vertical-align: top;\n",
       "    }\n",
       "\n",
       "    .dataframe thead th {\n",
       "        text-align: right;\n",
       "    }\n",
       "</style>\n",
       "<table border=\"1\" class=\"dataframe\">\n",
       "  <thead>\n",
       "    <tr style=\"text-align: right;\">\n",
       "      <th></th>\n",
       "      <th>transcripts</th>\n",
       "      <th>name</th>\n",
       "      <th>meaning</th>\n",
       "      <th>function</th>\n",
       "      <th>condition</th>\n",
       "      <th>location</th>\n",
       "      <th>process</th>\n",
       "    </tr>\n",
       "  </thead>\n",
       "  <tbody>\n",
       "    <tr>\n",
       "      <th>0</th>\n",
       "      <td>7.379174</td>\n",
       "      <td>YGR131W</td>\n",
       "      <td>E1B1 ethanol</td>\n",
       "      <td>molecular_function</td>\n",
       "      <td>IFFABF</td>\n",
       "      <td>membrane</td>\n",
       "      <td>protein ion</td>\n",
       "    </tr>\n",
       "    <tr>\n",
       "      <th>1</th>\n",
       "      <td>5.858715</td>\n",
       "      <td>YGR131W</td>\n",
       "      <td>pbs2 galactose</td>\n",
       "      <td>molecular_function</td>\n",
       "      <td>SAASCC</td>\n",
       "      <td>membrane</td>\n",
       "      <td>protein ion</td>\n",
       "    </tr>\n",
       "    <tr>\n",
       "      <th>2</th>\n",
       "      <td>12.130323</td>\n",
       "      <td>YGR131W</td>\n",
       "      <td>G2A1 glucose</td>\n",
       "      <td>molecular_function</td>\n",
       "      <td>IFFAFF</td>\n",
       "      <td>membrane</td>\n",
       "      <td>protein ion</td>\n",
       "    </tr>\n",
       "    <tr>\n",
       "      <th>3</th>\n",
       "      <td>12.679748</td>\n",
       "      <td>YGR131W</td>\n",
       "      <td>G1A1 glucose</td>\n",
       "      <td>molecular_function</td>\n",
       "      <td>IFFAFA</td>\n",
       "      <td>membrane</td>\n",
       "      <td>protein ion</td>\n",
       "    </tr>\n",
       "    <tr>\n",
       "      <th>4</th>\n",
       "      <td>11.276427</td>\n",
       "      <td>YGR131W</td>\n",
       "      <td>YB210 biofuel generation</td>\n",
       "      <td>molecular_function</td>\n",
       "      <td>INICIA</td>\n",
       "      <td>membrane</td>\n",
       "      <td>protein ion</td>\n",
       "    </tr>\n",
       "    <tr>\n",
       "      <th>5</th>\n",
       "      <td>18.484635</td>\n",
       "      <td>YGR131W</td>\n",
       "      <td>YB211 biofuel generation</td>\n",
       "      <td>molecular_function</td>\n",
       "      <td>INICIF</td>\n",
       "      <td>membrane</td>\n",
       "      <td>protein ion</td>\n",
       "    </tr>\n",
       "    <tr>\n",
       "      <th>6</th>\n",
       "      <td>2.377259</td>\n",
       "      <td>YGR131W</td>\n",
       "      <td>30 deg temperature</td>\n",
       "      <td>molecular_function</td>\n",
       "      <td>SAABQI</td>\n",
       "      <td>membrane</td>\n",
       "      <td>protein ion</td>\n",
       "    </tr>\n",
       "    <tr>\n",
       "      <th>7</th>\n",
       "      <td>22.251591</td>\n",
       "      <td>YGR131W</td>\n",
       "      <td>Strain6 phenol lysis</td>\n",
       "      <td>molecular_function</td>\n",
       "      <td>FFNAAA</td>\n",
       "      <td>membrane</td>\n",
       "      <td>protein ion</td>\n",
       "    </tr>\n",
       "    <tr>\n",
       "      <th>8</th>\n",
       "      <td>4.405163</td>\n",
       "      <td>YGR131W</td>\n",
       "      <td>DDY3630 strain W303</td>\n",
       "      <td>molecular_function</td>\n",
       "      <td>IFAAAR</td>\n",
       "      <td>membrane</td>\n",
       "      <td>protein ion</td>\n",
       "    </tr>\n",
       "    <tr>\n",
       "      <th>9</th>\n",
       "      <td>0.467589</td>\n",
       "      <td>YGR131W</td>\n",
       "      <td>itc1 itc1-1_dUTP</td>\n",
       "      <td>molecular_function</td>\n",
       "      <td>AFIINC</td>\n",
       "      <td>membrane</td>\n",
       "      <td>protein ion</td>\n",
       "    </tr>\n",
       "  </tbody>\n",
       "</table>\n",
       "</div>"
      ],
      "text/plain": [
       "   transcripts     name                   meaning            function  \\\n",
       "0     7.379174  YGR131W              E1B1 ethanol  molecular_function   \n",
       "1     5.858715  YGR131W            pbs2 galactose  molecular_function   \n",
       "2    12.130323  YGR131W              G2A1 glucose  molecular_function   \n",
       "3    12.679748  YGR131W              G1A1 glucose  molecular_function   \n",
       "4    11.276427  YGR131W  YB210 biofuel generation  molecular_function   \n",
       "5    18.484635  YGR131W  YB211 biofuel generation  molecular_function   \n",
       "6     2.377259  YGR131W        30 deg temperature  molecular_function   \n",
       "7    22.251591  YGR131W      Strain6 phenol lysis  molecular_function   \n",
       "8     4.405163  YGR131W       DDY3630 strain W303  molecular_function   \n",
       "9     0.467589  YGR131W          itc1 itc1-1_dUTP  molecular_function   \n",
       "\n",
       "  condition  location        process  \n",
       "0    IFFABF  membrane  protein ion    \n",
       "1    SAASCC  membrane  protein ion    \n",
       "2    IFFAFF  membrane  protein ion    \n",
       "3    IFFAFA  membrane  protein ion    \n",
       "4    INICIA  membrane  protein ion    \n",
       "5    INICIF  membrane  protein ion    \n",
       "6    SAABQI  membrane  protein ion    \n",
       "7    FFNAAA  membrane  protein ion    \n",
       "8    IFAAAR  membrane  protein ion    \n",
       "9    AFIINC  membrane  protein ion    "
      ]
     },
     "execution_count": 6,
     "metadata": {},
     "output_type": "execute_result"
    }
   ],
   "source": [
    "#!/usr/bin/env python\n",
    "from sqlalchemy import create_engine\n",
    "from sqlalchemy import MetaData\n",
    "from sqlalchemy import Table, Column\n",
    "from sqlalchemy import Integer, String\n",
    "from sqlalchemy import sql, select, join, desc\n",
    "import pandas as pd\n",
    "import sqlite3\n",
    "\n",
    "#Importing the database and establishing a connection\n",
    "yeast_engine = create_engine('sqlite:////blue/bsc4452/admontalvo/yeast.sqlite')\n",
    "conn=yeast_engine.connect()\n",
    "\n",
    "#creating a dataframe with pandas combining\n",
    "#gene_id,location_id,function_id, and bioprocess_id to create a unique gene ID\n",
    "#Odd primary key \n",
    "#Join statement linking all the tables together\n",
    "df_yeast=pd.read_sql_query('''SELECT Expression.transcripts, Genes.name, Description.meaning,Molecular.function,Treatment.condition,locations.location,Bioprocess.process\n",
    "                  FROM Expression JOIN Genes JOIN Description JOIN Molecular JOIN Treatment JOIN locations JOIN Bioprocess\n",
    "                ON Expression.gene_id=Genes.id AND Expression.meaning_id=Description.id AND Expression.treatment_id=Treatment.id\n",
    "                AND Expression.function_id=Molecular.id AND Expression.location_id=locations.id AND Expression.bioprocess_id=Bioprocess.id''', conn)\n",
    "\n",
    "\n",
    "df_yeast.head(10) #Prints the first 10 rows"
   ]
  },
  {
   "cell_type": "code",
   "execution_count": null,
   "id": "67a5aa6d-87dc-4d75-bdbe-ef8ec5140ba3",
   "metadata": {},
   "outputs": [],
   "source": [
    "#Join statement\n",
    "#functions"
   ]
  },
  {
   "cell_type": "code",
   "execution_count": 23,
   "id": "ba7224ae-bdfe-4c6e-ae0d-ea338e483908",
   "metadata": {},
   "outputs": [
    {
     "data": {
      "image/png": "[encoded data removed]",
      "text/plain": [
       "<Figure size 432x288 with 1 Axes>"
      ]
     },
     "metadata": {
      "needs_background": "light"
     },
     "output_type": "display_data"
    }
   ],
   "source": [
    "#plotting LifeExpectancy Vs other values using matplotlib\n",
    "import numpy as np\n",
    "import matplotlib.pyplot as plt\n",
    "\n",
    "#Customizing the pie long, medium and short chart and playing around with the functions\n",
    "labels = 'Long Flight', 'Medium Flight', 'Short Flight'\n",
    "sizes = [403, 246, 351]\n",
    " \n",
    "colors = ( \"orange\", \"cyan\", \"brown\") \n",
    "fig1, ax1 = plt.subplots()\n",
    "explode = (0.1, 0, 0) #Can change the value to make the slice of the pie farther or closer \n",
    "#in this case the long flights are extended \n",
    "\n",
    "#Customizing the pie chart explode makes a slice pop out startangle rotates it\n",
    "ax1.pie(sizes, colors = colors, explode=explode, labels=labels,autopct='%1.1f%%', shadow=True, startangle=90)\n",
    "patches, texts, auto = ax1.pie(sizes, colors=colors, shadow=True, startangle=90,explode=explode, autopct='%1.1f%%' )\n",
    "\n",
    "plt.title('Distribution of Long, Medium and Short Flights Distances Accross the flights.1K.csv Dataset') \n",
    "plt.legend(patches, labels, loc=\"best\") #legend is poorly placed but I mostly wanted to work with the code\n",
    "#the legend can be moved with upper left, lower right, upper right, designitions but all of them look worse\n",
    "plt.show()\n"
   ]
  },
  {
   "cell_type": "code",
   "execution_count": 7,
   "id": "9840e474-4b4f-478d-b217-88a37f53600f",
   "metadata": {},
   "outputs": [
    {
     "data": {
      "text/plain": [
       "['Bioprocess',\n",
       " 'Description',\n",
       " 'Expression',\n",
       " 'Genes',\n",
       " 'Member',\n",
       " 'Molecular',\n",
       " 'Relation',\n",
       " 'Treatment',\n",
       " 'locations',\n",
       " 'sqlite_sequence']"
      ]
     },
     "execution_count": 7,
     "metadata": {},
     "output_type": "execute_result"
    }
   ],
   "source": [
    "#obtaining the names of all the tables with the engine connection\n",
    "yeast_engine.table_names()"
   ]
  },
  {
   "cell_type": "code",
   "execution_count": 9,
   "id": "384b6873-c91f-4854-9e56-6b578bb6d0fc",
   "metadata": {},
   "outputs": [
    {
     "name": "stdout",
     "output_type": "stream",
     "text": [
      "Table:Bioprocess\n",
      "name\ttype\tnullable\tdefault\tautoincrement\tprimary_key\n",
      "id\tINTEGER\tFalse\tNone\tauto\t1\n",
      "process\tTEXT\tTrue\tNone\tauto\t0\n",
      "Table:Description\n",
      "name\ttype\tnullable\tdefault\tautoincrement\tprimary_key\n",
      "id\tINTEGER\tFalse\tNone\tauto\t1\n",
      "meaning\tTEXT\tTrue\tNone\tauto\t0\n",
      "Table:Expression\n",
      "name\ttype\tnullable\tdefault\tautoincrement\tprimary_key\n",
      "gene_id\tINTEGER\tTrue\tNone\tauto\t0\n",
      "transcripts\tINTEGER\tTrue\tNone\tauto\t0\n",
      "treatment_id\tINTEGER\tTrue\tNone\tauto\t0\n",
      "location_id\tINTEGER\tTrue\tNone\tauto\t0\n",
      "meaning_id\tINTEGER\tTrue\tNone\tauto\t0\n",
      "function_id\tINTEGER\tTrue\tNone\tauto\t0\n",
      "bioprocess_id\tINTEGER\tTrue\tNone\tauto\t0\n",
      "Table:Genes\n",
      "name\ttype\tnullable\tdefault\tautoincrement\tprimary_key\n",
      "id\tINTEGER\tFalse\tNone\tauto\t1\n",
      "name\tTEXT\tTrue\tNone\tauto\t0\n",
      "Table:Member\n",
      "name\ttype\tnullable\tdefault\tautoincrement\tprimary_key\n",
      "gene_id\tINTEGER\tTrue\tNone\tauto\t1\n",
      "location_id\tINTEGER\tTrue\tNone\tauto\t2\n",
      "function_id\tINTEGER\tTrue\tNone\tauto\t3\n",
      "bioprocess_id\tINTEGER\tTrue\tNone\tauto\t4\n",
      "Table:Molecular\n",
      "name\ttype\tnullable\tdefault\tautoincrement\tprimary_key\n",
      "id\tINTEGER\tFalse\tNone\tauto\t1\n",
      "function\tTEXT\tTrue\tNone\tauto\t0\n",
      "Table:Relation\n",
      "name\ttype\tnullable\tdefault\tautoincrement\tprimary_key\n",
      "condition_id\tINTEGER\tTrue\tNone\tauto\t1\n",
      "meaning_id\tINTEGER\tTrue\tNone\tauto\t2\n",
      "Table:Treatment\n",
      "name\ttype\tnullable\tdefault\tautoincrement\tprimary_key\n",
      "id\tINTEGER\tFalse\tNone\tauto\t1\n",
      "condition\tTEXT\tTrue\tNone\tauto\t0\n",
      "Table:locations\n",
      "name\ttype\tnullable\tdefault\tautoincrement\tprimary_key\n",
      "id\tINTEGER\tFalse\tNone\tauto\t1\n",
      "location\tTEXT\tTrue\tNone\tauto\t0\n",
      "Table:sqlite_sequence\n",
      "name\ttype\tnullable\tdefault\tautoincrement\tprimary_key\n"
     ]
    },
    {
     "ename": "CompileError",
     "evalue": "Can't generate DDL for NullType(); did you forget to specify a type on this Column?",
     "output_type": "error",
     "traceback": [
      "\u001b[0;31m---------------------------------------------------------------------------\u001b[0m",
      "\u001b[0;31mCompileError\u001b[0m                              Traceback (most recent call last)",
      "\u001b[0;32m/scratch/local/53121529/ipykernel_24685/183468600.py\u001b[0m in \u001b[0;36m<cell line: 7>\u001b[0;34m()\u001b[0m\n\u001b[1;32m     11\u001b[0m     \u001b[0;32mfor\u001b[0m \u001b[0mc\u001b[0m \u001b[0;32min\u001b[0m \u001b[0mcolumn_items\u001b[0m\u001b[0;34m:\u001b[0m\u001b[0;34m\u001b[0m\u001b[0;34m\u001b[0m\u001b[0m\n\u001b[1;32m     12\u001b[0m         \u001b[0;32massert\u001b[0m \u001b[0mlen\u001b[0m\u001b[0;34m(\u001b[0m\u001b[0mc\u001b[0m\u001b[0;34m)\u001b[0m \u001b[0;34m==\u001b[0m \u001b[0mlen\u001b[0m\u001b[0;34m(\u001b[0m\u001b[0mcolumn_items\u001b[0m\u001b[0;34m[\u001b[0m\u001b[0;36m0\u001b[0m\u001b[0;34m]\u001b[0m\u001b[0;34m)\u001b[0m\u001b[0;34m\u001b[0m\u001b[0;34m\u001b[0m\u001b[0m\n\u001b[0;32m---> 13\u001b[0;31m         \u001b[0mprint\u001b[0m\u001b[0;34m(\u001b[0m\u001b[0;34m'\\t'\u001b[0m\u001b[0;34m.\u001b[0m\u001b[0mjoin\u001b[0m\u001b[0;34m(\u001b[0m\u001b[0mstr\u001b[0m\u001b[0;34m(\u001b[0m\u001b[0mc\u001b[0m\u001b[0;34m[\u001b[0m\u001b[0mn\u001b[0m\u001b[0;34m]\u001b[0m\u001b[0;34m)\u001b[0m \u001b[0;32mfor\u001b[0m \u001b[0mn\u001b[0m \u001b[0;32min\u001b[0m \u001b[0mc\u001b[0m\u001b[0;34m)\u001b[0m\u001b[0;34m)\u001b[0m\u001b[0;34m\u001b[0m\u001b[0;34m\u001b[0m\u001b[0m\n\u001b[0m",
      "\u001b[0;32m/scratch/local/53121529/ipykernel_24685/183468600.py\u001b[0m in \u001b[0;36m<genexpr>\u001b[0;34m(.0)\u001b[0m\n\u001b[1;32m     11\u001b[0m     \u001b[0;32mfor\u001b[0m \u001b[0mc\u001b[0m \u001b[0;32min\u001b[0m \u001b[0mcolumn_items\u001b[0m\u001b[0;34m:\u001b[0m\u001b[0;34m\u001b[0m\u001b[0;34m\u001b[0m\u001b[0m\n\u001b[1;32m     12\u001b[0m         \u001b[0;32massert\u001b[0m \u001b[0mlen\u001b[0m\u001b[0;34m(\u001b[0m\u001b[0mc\u001b[0m\u001b[0;34m)\u001b[0m \u001b[0;34m==\u001b[0m \u001b[0mlen\u001b[0m\u001b[0;34m(\u001b[0m\u001b[0mcolumn_items\u001b[0m\u001b[0;34m[\u001b[0m\u001b[0;36m0\u001b[0m\u001b[0;34m]\u001b[0m\u001b[0;34m)\u001b[0m\u001b[0;34m\u001b[0m\u001b[0;34m\u001b[0m\u001b[0m\n\u001b[0;32m---> 13\u001b[0;31m         \u001b[0mprint\u001b[0m\u001b[0;34m(\u001b[0m\u001b[0;34m'\\t'\u001b[0m\u001b[0;34m.\u001b[0m\u001b[0mjoin\u001b[0m\u001b[0;34m(\u001b[0m\u001b[0mstr\u001b[0m\u001b[0;34m(\u001b[0m\u001b[0mc\u001b[0m\u001b[0;34m[\u001b[0m\u001b[0mn\u001b[0m\u001b[0;34m]\u001b[0m\u001b[0;34m)\u001b[0m \u001b[0;32mfor\u001b[0m \u001b[0mn\u001b[0m \u001b[0;32min\u001b[0m \u001b[0mc\u001b[0m\u001b[0;34m)\u001b[0m\u001b[0;34m)\u001b[0m\u001b[0;34m\u001b[0m\u001b[0;34m\u001b[0m\u001b[0m\n\u001b[0m",
      "\u001b[0;32m/apps/python/3.10/lib/python3.10/site-packages/sqlalchemy/sql/type_api.py\u001b[0m in \u001b[0;36m__str__\u001b[0;34m(self)\u001b[0m\n\u001b[1;32m    621\u001b[0m             )  # noqa\n\u001b[1;32m    622\u001b[0m         \u001b[0;32melse\u001b[0m\u001b[0;34m:\u001b[0m\u001b[0;34m\u001b[0m\u001b[0;34m\u001b[0m\u001b[0m\n\u001b[0;32m--> 623\u001b[0;31m             \u001b[0;32mreturn\u001b[0m \u001b[0mstr\u001b[0m\u001b[0;34m(\u001b[0m\u001b[0mself\u001b[0m\u001b[0;34m.\u001b[0m\u001b[0mcompile\u001b[0m\u001b[0;34m(\u001b[0m\u001b[0;34m)\u001b[0m\u001b[0;34m)\u001b[0m\u001b[0;34m\u001b[0m\u001b[0;34m\u001b[0m\u001b[0m\n\u001b[0m\u001b[1;32m    624\u001b[0m \u001b[0;34m\u001b[0m\u001b[0m\n\u001b[1;32m    625\u001b[0m     \u001b[0;32mdef\u001b[0m \u001b[0m__repr__\u001b[0m\u001b[0;34m(\u001b[0m\u001b[0mself\u001b[0m\u001b[0;34m)\u001b[0m\u001b[0;34m:\u001b[0m\u001b[0;34m\u001b[0m\u001b[0;34m\u001b[0m\u001b[0m\n",
      "\u001b[0;32m/apps/python/3.10/lib/python3.10/site-packages/sqlalchemy/sql/type_api.py\u001b[0m in \u001b[0;36mcompile\u001b[0;34m(self, dialect)\u001b[0m\n\u001b[1;32m    604\u001b[0m             \u001b[0mdialect\u001b[0m \u001b[0;34m=\u001b[0m \u001b[0mself\u001b[0m\u001b[0;34m.\u001b[0m\u001b[0m_default_dialect\u001b[0m\u001b[0;34m(\u001b[0m\u001b[0;34m)\u001b[0m\u001b[0;34m\u001b[0m\u001b[0;34m\u001b[0m\u001b[0m\n\u001b[1;32m    605\u001b[0m \u001b[0;34m\u001b[0m\u001b[0m\n\u001b[0;32m--> 606\u001b[0;31m         \u001b[0;32mreturn\u001b[0m \u001b[0mdialect\u001b[0m\u001b[0;34m.\u001b[0m\u001b[0mtype_compiler\u001b[0m\u001b[0;34m.\u001b[0m\u001b[0mprocess\u001b[0m\u001b[0;34m(\u001b[0m\u001b[0mself\u001b[0m\u001b[0;34m)\u001b[0m\u001b[0;34m\u001b[0m\u001b[0;34m\u001b[0m\u001b[0m\n\u001b[0m\u001b[1;32m    607\u001b[0m \u001b[0;34m\u001b[0m\u001b[0m\n\u001b[1;32m    608\u001b[0m     \u001b[0;34m@\u001b[0m\u001b[0mutil\u001b[0m\u001b[0;34m.\u001b[0m\u001b[0mdependencies\u001b[0m\u001b[0;34m(\u001b[0m\u001b[0;34m\"sqlalchemy.engine.default\"\u001b[0m\u001b[0;34m)\u001b[0m\u001b[0;34m\u001b[0m\u001b[0;34m\u001b[0m\u001b[0m\n",
      "\u001b[0;32m/apps/python/3.10/lib/python3.10/site-packages/sqlalchemy/sql/compiler.py\u001b[0m in \u001b[0;36mprocess\u001b[0;34m(self, type_, **kw)\u001b[0m\n\u001b[1;32m    400\u001b[0m \u001b[0;34m\u001b[0m\u001b[0m\n\u001b[1;32m    401\u001b[0m     \u001b[0;32mdef\u001b[0m \u001b[0mprocess\u001b[0m\u001b[0;34m(\u001b[0m\u001b[0mself\u001b[0m\u001b[0;34m,\u001b[0m \u001b[0mtype_\u001b[0m\u001b[0;34m,\u001b[0m \u001b[0;34m**\u001b[0m\u001b[0mkw\u001b[0m\u001b[0;34m)\u001b[0m\u001b[0;34m:\u001b[0m\u001b[0;34m\u001b[0m\u001b[0;34m\u001b[0m\u001b[0m\n\u001b[0;32m--> 402\u001b[0;31m         \u001b[0;32mreturn\u001b[0m \u001b[0mtype_\u001b[0m\u001b[0;34m.\u001b[0m\u001b[0m_compiler_dispatch\u001b[0m\u001b[0;34m(\u001b[0m\u001b[0mself\u001b[0m\u001b[0;34m,\u001b[0m \u001b[0;34m**\u001b[0m\u001b[0mkw\u001b[0m\u001b[0;34m)\u001b[0m\u001b[0;34m\u001b[0m\u001b[0;34m\u001b[0m\u001b[0m\n\u001b[0m\u001b[1;32m    403\u001b[0m \u001b[0;34m\u001b[0m\u001b[0m\n\u001b[1;32m    404\u001b[0m \u001b[0;34m\u001b[0m\u001b[0m\n",
      "\u001b[0;32m/apps/python/3.10/lib/python3.10/site-packages/sqlalchemy/sql/visitors.py\u001b[0m in \u001b[0;36m_compiler_dispatch\u001b[0;34m(self, visitor, **kw)\u001b[0m\n\u001b[1;32m     94\u001b[0m                     )\n\u001b[1;32m     95\u001b[0m                 \u001b[0;32melse\u001b[0m\u001b[0;34m:\u001b[0m\u001b[0;34m\u001b[0m\u001b[0;34m\u001b[0m\u001b[0m\n\u001b[0;32m---> 96\u001b[0;31m                     \u001b[0;32mreturn\u001b[0m \u001b[0mmeth\u001b[0m\u001b[0;34m(\u001b[0m\u001b[0mself\u001b[0m\u001b[0;34m,\u001b[0m \u001b[0;34m**\u001b[0m\u001b[0mkw\u001b[0m\u001b[0;34m)\u001b[0m\u001b[0;34m\u001b[0m\u001b[0;34m\u001b[0m\u001b[0m\n\u001b[0m\u001b[1;32m     97\u001b[0m \u001b[0;34m\u001b[0m\u001b[0m\n\u001b[1;32m     98\u001b[0m         \u001b[0;32melse\u001b[0m\u001b[0;34m:\u001b[0m\u001b[0;34m\u001b[0m\u001b[0;34m\u001b[0m\u001b[0m\n",
      "\u001b[0;32m/apps/python/3.10/lib/python3.10/site-packages/sqlalchemy/sql/compiler.py\u001b[0m in \u001b[0;36mvisit_null\u001b[0;34m(self, type_, **kw)\u001b[0m\n\u001b[1;32m   3476\u001b[0m \u001b[0;34m\u001b[0m\u001b[0m\n\u001b[1;32m   3477\u001b[0m     \u001b[0;32mdef\u001b[0m \u001b[0mvisit_null\u001b[0m\u001b[0;34m(\u001b[0m\u001b[0mself\u001b[0m\u001b[0;34m,\u001b[0m \u001b[0mtype_\u001b[0m\u001b[0;34m,\u001b[0m \u001b[0;34m**\u001b[0m\u001b[0mkw\u001b[0m\u001b[0;34m)\u001b[0m\u001b[0;34m:\u001b[0m\u001b[0;34m\u001b[0m\u001b[0;34m\u001b[0m\u001b[0m\n\u001b[0;32m-> 3478\u001b[0;31m         raise exc.CompileError(\n\u001b[0m\u001b[1;32m   3479\u001b[0m             \u001b[0;34m\"Can't generate DDL for %r; \"\u001b[0m\u001b[0;34m\u001b[0m\u001b[0;34m\u001b[0m\u001b[0m\n\u001b[1;32m   3480\u001b[0m             \u001b[0;34m\"did you forget to specify a \"\u001b[0m\u001b[0;34m\u001b[0m\u001b[0;34m\u001b[0m\u001b[0m\n",
      "\u001b[0;31mCompileError\u001b[0m: Can't generate DDL for NullType(); did you forget to specify a type on this Column?"
     ]
    }
   ],
   "source": [
    "#obtaining table descriptions from database, similiar to .schema command function with SQLite3 in the terminal\n",
    "from sqlalchemy import create_engine, inspect\n",
    "\n",
    "\n",
    "inspector = inspect(yeast_engine)\n",
    "table_names = inspector.get_table_names()\n",
    "for table_name in table_names:\n",
    "    print(f\"Table:{table_name}\")\n",
    "    column_items = inspector.get_columns(table_name)\n",
    "    print('\\t'.join(n for n in column_items[0]))\n",
    "    for c in column_items:\n",
    "        assert len(c) == len(column_items[0])\n",
    "        print('\\t'.join(str(c[n]) for n in c))"
   ]
  },
  {
   "cell_type": "code",
   "execution_count": 25,
   "id": "9613a626-e333-4961-b3c3-b352a1ec2607",
   "metadata": {},
   "outputs": [
    {
     "data": {
      "text/plain": [
       "[(1, 'membrane'),\n",
       " (2, 'mitochond'),\n",
       " (3, 'nucle'),\n",
       " (18, 'cytoplasm'),\n",
       " (22, 'cytosol'),\n",
       " (41, 'endoplasm'),\n",
       " (121, 'extracellular')]"
      ]
     },
     "execution_count": 25,
     "metadata": {},
     "output_type": "execute_result"
    }
   ],
   "source": [
    "\n",
    "yeast_engine.execute(\"SELECT * FROM locations\").fetchall()"
   ]
  },
  {
   "cell_type": "code",
   "execution_count": 13,
   "id": "6b4c8858-5a3d-4f41-a51d-23b4b2ce48bd",
   "metadata": {},
   "outputs": [
    {
     "ename": "SyntaxError",
     "evalue": "unterminated triple-quoted string literal (detected at line 2) (3597464344.py, line 1)",
     "output_type": "error",
     "traceback": [
      "\u001b[0;36m  File \u001b[0;32m\"/scratch/local/53067248/ipykernel_6390/3597464344.py\"\u001b[0;36m, line \u001b[0;32m1\u001b[0m\n\u001b[0;31m    SELECT Expression.gene_id, Expression.location_id, Expression.function_id, Expression.bioprocess_id.n_id=Molecular.id, Expression.location_id=locations.id, Expression.bioprocess_id=Bioprocess.id''', conn)\u001b[0m\n\u001b[0m                                                                                                                                                                                                      ^\u001b[0m\n\u001b[0;31mSyntaxError\u001b[0m\u001b[0;31m:\u001b[0m unterminated triple-quoted string literal (detected at line 2)\n"
     ]
    }
   ],
   "source": [
    "#Joining the yeast member table with the Expression table by the gene_id common term \n",
    "session.query(Expression).join(Member).filter(Invoice.amount == 8500).all()\n",
    "\n",
    "result = session.query(Customer).join(Invoice).filter(Invoice.amount == 8500)\n",
    "for row in result:\n",
    "   for inv in row.invoices:\n",
    "      print (row.id, row.name, inv.invno, inv.amount)\n",
    "\n",
    "#SELECT Expression.gene_id, Expression.location_id, Expression.function_id, Expression.bioprocess_id.n_id=Molecular.id, Expression.location_id=locations.id, Expression.bioprocess_id=Bioprocess.id''', conn)\n",
    "#FROM Expression JOIN Member on Expression.gene_id = Member.gene_id"
   ]
  },
  {
   "cell_type": "code",
   "execution_count": 14,
   "id": "f7050f6c-b2f4-4670-975c-b602ceaf5d15",
   "metadata": {},
   "outputs": [
    {
     "ename": "NameError",
     "evalue": "name 'requireNamespace' is not defined",
     "output_type": "error",
     "traceback": [
      "\u001b[0;31m---------------------------------------------------------------------------\u001b[0m",
      "\u001b[0;31mNameError\u001b[0m                                 Traceback (most recent call last)",
      "\u001b[0;32m/scratch/local/53121529/ipykernel_24685/3202180690.py\u001b[0m in \u001b[0;36m<cell line: 3>\u001b[0;34m()\u001b[0m\n\u001b[1;32m      1\u001b[0m \u001b[0;31m#EdgeR package installation\u001b[0m\u001b[0;34m\u001b[0m\u001b[0;34m\u001b[0m\u001b[0m\n\u001b[1;32m      2\u001b[0m \u001b[0;31m#IMPORTANT: Running this might take some minutes!\u001b[0m\u001b[0;34m\u001b[0m\u001b[0;34m\u001b[0m\u001b[0m\n\u001b[0;32m----> 3\u001b[0;31m \u001b[0;32mif\u001b[0m \u001b[0;34m(\u001b[0m\u001b[0mrequireNamespace\u001b[0m\u001b[0;34m(\u001b[0m\u001b[0;34m\"BiocManager\"\u001b[0m\u001b[0;34m,\u001b[0m \u001b[0mquietly\u001b[0m \u001b[0;34m=\u001b[0m \u001b[0mTRUE\u001b[0m\u001b[0;34m)\u001b[0m\u001b[0;34m)\u001b[0m\u001b[0;34m:\u001b[0m\u001b[0;34m\u001b[0m\u001b[0;34m\u001b[0m\u001b[0m\n\u001b[0m\u001b[1;32m      4\u001b[0m     \u001b[0minstall\u001b[0m\u001b[0;34m.\u001b[0m\u001b[0mpackages\u001b[0m\u001b[0;34m(\u001b[0m\u001b[0;34m\"BiocManager\"\u001b[0m\u001b[0;34m)\u001b[0m\u001b[0;34m\u001b[0m\u001b[0;34m\u001b[0m\u001b[0m\n\u001b[1;32m      5\u001b[0m \u001b[0mBiocManager\u001b[0m\u001b[0;34m:\u001b[0m\u001b[0minstall\u001b[0m\u001b[0;34m(\u001b[0m\u001b[0;34m\"edgeR\"\u001b[0m\u001b[0;34m)\u001b[0m\u001b[0;34m\u001b[0m\u001b[0;34m\u001b[0m\u001b[0m\n",
      "\u001b[0;31mNameError\u001b[0m: name 'requireNamespace' is not defined"
     ]
    }
   ],
   "source": [
    "#EdgeR package installation\n",
    "#IMPORTANT: Running this might take some minutes!\n",
    "if (requireNamespace(\"BiocManager\", quietly = TRUE)):\n",
    "    install.packages(\"BiocManager\")\n",
    "BiocManager:install(\"edgeR\")"
   ]
  },
  {
   "cell_type": "code",
   "execution_count": 15,
   "id": "452f64f8-570d-449d-b047-a8bbac495bef",
   "metadata": {},
   "outputs": [
    {
     "ename": "SyntaxError",
     "evalue": "unterminated string literal (detected at line 5) (1612274482.py, line 5)",
     "output_type": "error",
     "traceback": [
      "\u001b[0;36m  File \u001b[0;32m\"/scratch/local/53121529/ipykernel_24685/1612274482.py\"\u001b[0;36m, line \u001b[0;32m5\u001b[0m\n\u001b[0;31m    df<-dbSendQuery(conn,\"SELECT Expression.transcripts, Genes.name, Description.meaning,Molecular.function,Treatment.condition,locations.location,Bioprocess.process\u001b[0m\n\u001b[0m                         ^\u001b[0m\n\u001b[0;31mSyntaxError\u001b[0m\u001b[0;31m:\u001b[0m unterminated string literal (detected at line 5)\n"
     ]
    }
   ],
   "source": [
    "#Connection to SQLite yeast database--------------------------\n",
    "library(RSQLite)\n",
    "sqlite <- dbDriver(\"SQLite\")\n",
    "conn <- dbConnect(sqlite, \"../input/yeast-database/yeast.sqlite\")\n",
    "df<-dbSendQuery(conn,\"SELECT Expression.transcripts, Genes.name, Description.meaning,Molecular.function,Treatment.condition,locations.location,Bioprocess.process\n",
    "                  FROM Expression JOIN Genes JOIN Description JOIN Molecular JOIN Treatment JOIN locations JOIN Bioprocess\n",
    "                ON Expression.gene_id=Genes.id AND Expression.meaning_id=Description.id AND Expression.treatment_id=Treatment.id\n",
    "                AND Expression.function_id=Molecular.id AND Expression.location_id=locations.id AND Expression.bioprocess_id=Bioprocess.id\")\n",
    "df<-dbFetch(df)\n",
    "#Reshape dataframe---------------------------------------------\n",
    "library(reshape2)\n",
    "heat<-dplyr::filter(df, grepl(\"temperature|control\",meaning))\n",
    "heat[4:6] <- list(NULL)\n",
    "heat$meaning <- with(heat,factor(meaning, levels = c(\"30 deg temperature\", \"37 deg temperature\",\"15 deg temperature\",\"tet-control strain tet-control\"), \n",
    "                               labels = c(\"T30\", \"T37\",\"T15\",\"Control\")))\n",
    "#Setting genes as indexes & filtering low gene counts----------\n",
    "library(tidyverse)\n",
    "heat$indx <-with(heat, ave(seq_along(name), meaning, name, FUN=seq_along))\n",
    "heatm<-dcast(heat, name~meaning+indx, value.var=\"transcripts\")\n",
    "heatm<-heatm %>% column_to_rownames(., var = \"name\")\n",
    "data_subset <- heatm[rowSums(heatm)>1,]  #Genes with a count lower than 1 million are eliminated\n",
    "cat('Table with the expression of genes for each treatment')\n",
    "head(data_subset)"
   ]
  }
 ],
 "metadata": {
  "kernelspec": {
   "display_name": "UFRC Python-3.10",
   "language": "python",
   "name": "python3-3.10-ufrc"
  },
  "language_info": {
   "codemirror_mode": {
    "name": "ipython",
    "version": 3
   },
   "file_extension": ".py",
   "mimetype": "text/x-python",
   "name": "python",
   "nbconvert_exporter": "python",
   "pygments_lexer": "ipython3",
   "version": "3.10.5"
  }
 },
 "nbformat": 4,
 "nbformat_minor": 5
}
