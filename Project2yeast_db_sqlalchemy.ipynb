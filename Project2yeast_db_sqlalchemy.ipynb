{
 "cells": [
  {
   "cell_type": "code",
   "execution_count": null,
   "id": "973bfec4-6dc4-4ce9-a32e-7dc861907f88",
   "metadata": {},
   "outputs": [],
   "source": [
    "### Project 2 SQLAlchemy Assignment Using Yeast_RNA-Seq Reads sqlite database "
   ]
  },
  {
   "cell_type": "code",
   "execution_count": null,
   "id": "dc020cee-f93c-4271-8a8f-ad6f9ef43e02",
   "metadata": {},
   "outputs": [],
   "source": [
    "#!/usr/bin/env python\n",
    "from sqlalchemy import create_engine\n",
    "from sqlalchemy import MetaData\n",
    "from sqlalchemy import Table, Column\n",
    "from sqlalchemy import Integer, String\n",
    "from sqlalchemy import sql, select, join, desc\n",
    "import pandas as pd\n",
    "\n",
    "import sqlite3\n",
    "\n",
    "#Importing the database and establishing a connection\n",
    "yeast_engine = create_engine('sqlite:////blue/bsc4452/admontalvo/yeast.sqlite')\n",
    "conn=yeast_engine.connect()\n",
    "\n",
    "#creating a dataframe with pandas combining\n",
    "#gene_id,location_id,function_id, and bioprocess_id to create a unique gene ID\n",
    "#Odd primary key \n",
    "#Join statement linking all the tables together\n",
    "df_yeast=pd.read_sql_query('''SELECT Expression.transcripts, Genes.name, Description.meaning,Molecular.function,Treatment.condition,locations.location,Bioprocess.process\n",
    "                  FROM Expression JOIN Genes JOIN Description JOIN Molecular JOIN Treatment JOIN locations JOIN Bioprocess\n",
    "                ON Expression.gene_id=Genes.id AND Expression.meaning_id=Description.id AND Expression.treatment_id=Treatment.id\n",
    "                AND Expression.function_id=Molecular.id AND Expression.location_id=locations.id AND Expression.bioprocess_id=Bioprocess.id''', conn)\n",
    "\n",
    "\n",
    "df_yeast.head(10) #Prints the first 10 rows"
   ]
  },
  {
   "cell_type": "code",
   "execution_count": null,
   "id": "9840e474-4b4f-478d-b217-88a37f53600f",
   "metadata": {},
   "outputs": [],
   "source": [
    "#obtaining the names of all the tables with the engine connection\n",
    "yeast_engine.table_names()"
   ]
  },
  {
   "cell_type": "code",
   "execution_count": null,
   "id": "384b6873-c91f-4854-9e56-6b578bb6d0fc",
   "metadata": {},
   "outputs": [],
   "source": [
    "#obtaining table descriptions from database, similiar to .schema command function with SQLite3 in the terminal\n",
    "#error potentially is present from sqlite_sequence table and possibly no values are present there\n",
    "from sqlalchemy import create_engine, inspect\n",
    "\n",
    "#inspector valueto look at the table\n",
    "inspector = inspect(yeast_engine)\n",
    "table_names = inspector.get_table_names()\n",
    "for table_name in table_names:\n",
    "    print(f\"Table:{table_name}\")\n",
    "    column_items = inspector.get_columns(table_name)\n",
    "    print('\\t'.join(n for n in column_items[0]))\n",
    "    for c in column_items:\n",
    "        assert len(c) == len(column_items[0])\n",
    "        print('\\t'.join(str(c[n]) for n in c))"
   ]
  },
  {
   "cell_type": "code",
   "execution_count": null,
   "id": "9613a626-e333-4961-b3c3-b352a1ec2607",
   "metadata": {},
   "outputs": [],
   "source": [
    "#Looking at the presentation of the cellular compartments from the locations table\n",
    "yeast_locations = yeast_engine.execute(\"SELECT * FROM locations\").fetchall()\n",
    "print(yeast_locations)"
   ]
  },
  {
   "cell_type": "code",
   "execution_count": null,
   "id": "445878b2-ca92-4875-89e9-9850791e5316",
   "metadata": {},
   "outputs": [],
   "source": [
    "#visualing how transcripts from the Expression table is presented in the database by looking at one results with .fetchone()\n",
    "#The output appear to represent the gene_id, transcripts , treatment_id, location_id, \n",
    "#meaning_id, function_id and bioprocess_id from the Expression table. We are interested in the transcripts\n",
    "yeast_transcripts = yeast_engine.execute(\"SELECT * FROM Expression\").fetchall() #.fetchall() can print out all the outputs \n",
    "print(yeast_transcripts)"
   ]
  },
  {
   "cell_type": "code",
   "execution_count": null,
   "id": "122c4687-865d-468a-ad23-16fcc6c4f5e4",
   "metadata": {},
   "outputs": [],
   "source": [
    "#function to determine the total number of counts RNA -seq reads from each\n",
    "#cell compartment from the locations coloumn\n",
    "def filter_transcripts(my_df_transcripts, transcripts): #variables in parenthesis to define the dataframe and location\n",
    "    filtered_df_transcripts = my_df_transcripts['transcripts'] == transcripts\n",
    "    return filtered_df_transcripts, sum(filtered_df_transcripts) #returns filtered transcript reads and total counts of the values"
   ]
  },
  {
   "cell_type": "code",
   "execution_count": null,
   "id": "95940d13-ae34-4159-8964-0b5b6fa9166d",
   "metadata": {},
   "outputs": [],
   "source": [
    "#If statement for transcript reads > 5\n",
    "yeast_read_counts = {}\n",
    "for transcripts in yeast_transcripts:\n",
    "    print(transcripts)\n",
    "    yeast_reads, yeast_read_total = filter_transcripts(df_yeast, df_yeast['transcripts'])\n",
    "    yeast_read_counts[transcripts[2]] = yeast_read_total\n",
    "    if df_yeast['transcripts'] > 5:\n",
    "        print(yeast_read_total)"
   ]
  },
  {
   "cell_type": "code",
   "execution_count": null,
   "id": "97297ca2-29ae-4fa1-9e22-b5e2cab8a62d",
   "metadata": {},
   "outputs": [],
   "source": [
    "#function to determine the total number of counts RNA -seq reads from each\n",
    "#cell compartment from the locations coloumn\n",
    "def filter_location(my_df, location): #variables in parenthesis to define the dataframe and location\n",
    "    filtered_df = my_df['location'] == location\n",
    "    return filtered_df, sum(filtered_df) #returns cell compartments and total counts of the values"
   ]
  },
  {
   "cell_type": "code",
   "execution_count": null,
   "id": "e3c2a0b7-0e2f-46c8-9318-b6962a5ccc3e",
   "metadata": {},
   "outputs": [],
   "source": [
    "#Obtaining the total number RNA-seq counts per cell compartment using a dictionary\n",
    "location_counts = {}\n",
    "\n",
    "# For loop to go line by line in the location column and \n",
    "for location in yeast_locations:\n",
    "    print(location[1]) #location is the desired column\n",
    "    location_mem,location_total = filter_location(df_yeast, location[1]) #two variables placed before the equal sign \n",
    "    #print(location_mem, location_total)\n",
    "    location_counts[location[1]] = location_total\n",
    "print(location_counts) "
   ]
  },
  {
   "cell_type": "code",
   "execution_count": null,
   "id": "6e4b6757-776c-4077-98b0-c3b9078e3e40",
   "metadata": {},
   "outputs": [],
   "source": [
    "# Pie chart plotting the RNA - seq reads fromt he sql  Vs other values using matplotlib\n",
    "import numpy as np\n",
    "import matplotlib.pyplot as plt\n",
    "\n",
    "#Customizing the pie long, medium and short chart and playing around with the functions\n",
    "labels = 'Membrane', 'Mitochondrial', 'Nucleus', 'Cytoplasm', 'Cytosol', 'Endoplasm', 'Extracellular'\n",
    "sizes = [10741, 3565, 14168, 2829, 1058, 1196, 115]\n",
    " \n",
    "colors = ( \"orange\", \"cyan\", \"brown\", \"green\", \"red\", \"blue\", \"yellow\") \n",
    "fig1, ax1 = plt.subplots()\n",
    "#Can change the value to make the slice of the pie farther or closer \n",
    "#in this case the extracellular, endoplasm, cytosol, and cytoplasm sections are extended \n",
    "explode = (0, 0, 0, 0.1, 0.25, 0.4, 0.5) \n",
    "\n",
    "#Customizing the pie chart explode makes a slice pop out startangle rotates it\n",
    "ax1.pie(sizes, colors = colors, explode=explode, labels=labels,autopct='%1.1f%%', shadow=True, startangle=90)\n",
    "patches, texts, auto = ax1.pie(sizes, colors=colors, shadow=True, startangle=90,explode=explode, autopct='%1.1f%%' )\n",
    "\n",
    "plt.title('Number of RNA-seq Reads per Cellular comaprtment from the yeast.sqlite database') \n",
    "#plt.legend(patches, labels, loc=\"best\") #legend is poorly placed but I mostly wanted to work with the code\n",
    "#the legend can be moved with upper left, lower right, upper right, designitions but all of them look worse\n",
    "plt.show()"
   ]
  },
  {
   "cell_type": "code",
   "execution_count": null,
   "id": "4d5af816-dbf9-4e23-a661-c7976ddfc01d",
   "metadata": {},
   "outputs": [],
   "source": [
    "\n",
    "import numpy as np\n",
    "import matplotlib.pyplot as plt\n",
    " \n",
    "  \n",
    "#creating the dataset\n",
    "\n",
    "data = {'Membrane':10741, 'Mitochondrial':3565, 'Nucleus':14168, 'Cytoplasm':2829, 'Cytosol':1058, 'Endoplasm':1196, \n",
    "        'Extracellular':115}\n",
    "cell_compartment = list(data.keys()) #x axis displayed as a list\n",
    "rna_seq_reads = list(data.values()) #y axis dispalyed as a list\n",
    "  \n",
    "fig = plt.figure(figsize = (10, 5))\n",
    " \n",
    "# creating the bar plot\n",
    "plt.bar(cell_compartment, rna_seq_reads, color ='maroon',\n",
    "        width = 0.4)\n",
    "\n",
    "#Creating the title, \n",
    "plt.xlabel(\"Cellular Compartment\")\n",
    "plt.ylabel(\"Quanitity of RNA-seq Reads\")\n",
    "plt.title(\"Number of RNA-Sequancing Reads Separated Cellular comaprtment from the yeast.sqlite database\")\n",
    "plt.show()\n"
   ]
  },
  {
   "cell_type": "code",
   "execution_count": null,
   "id": "95da37ef-ae13-4170-82b8-c5730671c75a",
   "metadata": {},
   "outputs": [],
   "source": [
    "#function to determine the total number of counts RNA -seq reads from each\n",
    "#cell compartment from the locations coloumn\n",
    "def filter_transcript(my_df, transcript): #variables in parenthesis to define the dataframe and location\n",
    "    filtered_transcripts_df = my_df['transcripts'] == transcripts\n",
    "    return filtered_transcripts_df, sum(filtered_transcripts_df) #returns cell compartments and total counts of the values"
   ]
  },
  {
   "cell_type": "code",
   "execution_count": null,
   "id": "84fa0e9a-44e2-4bae-8c0a-626a5d7084c9",
   "metadata": {},
   "outputs": [],
   "source": [
    "#Obtaining the total number RNA-seq counts per cell compartment using a dictionary\n",
    "transcript_counts = {}\n",
    "\n",
    "# For loop to go line by line in the location column and transcripts column and obtian the number of reads with transcript values > 5\n",
    "for transcript in yeast_transcripts:\n",
    "    if filtered_transcripts_df > 5:\n",
    "        print(transcripts)\n",
    "        transcripts_count,transcript_total = filter_transcript(df_yeast, transcripts)\n",
    "        #print(location_mem, location_total)\n",
    "        transcript_counts[transcripts] = transcript_total\n",
    "    print(transcript_counts)"
   ]
  },
  {
   "cell_type": "code",
   "execution_count": null,
   "id": "1b82d695-3d0e-4abb-a8ae-7fa4bc30a8c4",
   "metadata": {},
   "outputs": [],
   "source": [
    "# Filtering values within the location column in the yeast database that contain the term membrane\n",
    "location_mem = df_yeast[\"location\"] == \"membrane\"\n",
    "print(location_mem)\n",
    "sum(location_mem)"
   ]
  },
  {
   "cell_type": "code",
   "execution_count": null,
   "id": "9bd1caaa-99d2-48d1-89f2-ba23e1a416d7",
   "metadata": {},
   "outputs": [],
   "source": [
    "#Sorting dataframe to obtain yeast strains in the different compartments with RNA-seq transcript values < 5 and FFNAAA growth treatment\n",
    "\n",
    "df_yeast.sort_values(\"transcripts\", inplace = True)\n",
    "  \n",
    "# Filtering transcripts < 5  rna seq reads from yeast database\n",
    "transcripts_filter1 = df_yeast[\"transcripts\"] < 5\n",
    "\n",
    "# Filtering transcripts > 5  rna seq reads from yeast database\n",
    "transcripts_filter2 = df_yeast[\"transcripts\"] > 5\n",
    "\n",
    "# Filtering values within the location column in the yeast database that contain the term membrane\n",
    "location_mem = df_yeast[\"location\"] == \"membrane\"\n",
    "\n",
    "# Filtering values within the location column in the yeast database that contain the term \"mitochond\" which is short for mitochondria\n",
    "location_mito = df_yeast[\"location\"] == \"mitochond\"\n",
    "\n",
    "# Filtering values within the location column in the yeast database that contain the term \"nucle\" which is short for nucleus\n",
    "location_nucl = df_yeast[\"location\"] == \"nucle\"\n",
    "\n",
    "# Filtering values within the location column in the yeast database that contain the term \"cytoplasm\" \n",
    "location_cytoplasm = df_yeast[\"location\"] == \"cytoplasm\"\n",
    "\n",
    "# Filtering values within the location column in the yeast database that contain the term \"cytosol\" \n",
    "location_cytosol = df_yeast[\"location\"] == \"cytosol\"\n",
    "\n",
    "# Filtering values within the location column in the yeast database that contain the term \"endoplasm\" \n",
    "location_endoplasm = df_yeast[\"location\"] == \"endoplasm\"\n",
    "\n",
    "# Filtering values within the location column in the yeast database that contain the term \"extracellular\" \n",
    "location_extracellular = df_yeast[\"location\"] == \"extracellular\"\n",
    "\n",
    "\n",
    "#displaying the new dataframe with filtered data\n",
    "df_yeast\n",
    "\n",
    "\n",
    "\n"
   ]
  },
  {
   "cell_type": "code",
   "execution_count": null,
   "id": "9e03e746-7ac0-4eaf-99be-7f34e1a05f99",
   "metadata": {},
   "outputs": [],
   "source": [
    "# Filtering transcripts < 5  rna seq reads from yeast database Testing this out\n",
    "transcripts_filter1 = df_yeast[\"transcripts\"] < 5\n",
    "print(transcripts_filter1)"
   ]
  }
 ],
 "metadata": {
  "kernelspec": {
   "display_name": "UFRC Python-3.10",
   "language": "python",
   "name": "python3-3.10-ufrc"
  },
  "language_info": {
   "codemirror_mode": {
    "name": "ipython",
    "version": 3
   },
   "file_extension": ".py",
   "mimetype": "text/x-python",
   "name": "python",
   "nbconvert_exporter": "python",
   "pygments_lexer": "ipython3",
   "version": "3.10.5"
  }
 },
 "nbformat": 4,
 "nbformat_minor": 5
}
